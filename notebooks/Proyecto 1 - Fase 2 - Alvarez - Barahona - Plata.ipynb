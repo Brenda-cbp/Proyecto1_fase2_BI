{
 "cells": [
  {
   "cell_type": "markdown",
   "id": "65486335",
   "metadata": {},
   "source": [
    "### María Sofía Álvarez - Brenda Barahona - Álvaro Plata\n",
    "<h1 align='center'>Proyecto 1: Analítica de textos - Preprocesamiento</h1>\n",
    "\n",
    "En esta fase del proyecto, nos encargaremos de construir las pipelines necesarias para desplegar nuestros modelos en una API. Para ello, únicamente nos remitiremos a construir los 3 modelos que nos dieron los mejores resultados en la fase 1 de este proyecto, después de realizar el ajuste de hiperparámetros desarrollado en la fase anterior. Este notebook se divide en ciertas fases. Primero, se realiza todo el preprocesamiento, que es común a todos los modelos. Segundo, se terminan de construir las pipelines propias de cada modelo, de acuerdo con los hiperparámetros que fueron ajustados en la fase 1 (solo con ellos, para ahorrar tiempo de cómputo). Por último, se exportan los tres modelos.\n",
    "\n",
    "Si desea ver a fondo alguna parte del perfilamiento, preprocesamiento de datos realizado, o ajuste de hiperparámetrod, remítase al repositorio de github de la fase 1 de este proyecto, disponible en <a href=\"https://github.com/sofiaalvarezlopez/Proyecto-1-BI\">este link</a>.\n",
    "\n",
    "## Importación de librerías\n",
    "Importamos las librerías necesarias para el desarrollo de este proyecto. Las librerías instaladas son exactamente las mismas que las que se instalaron para la fase 1 de este proyecto."
   ]
  },
  {
   "cell_type": "code",
   "execution_count": 38,
   "id": "aee7fd68",
   "metadata": {
    "scrolled": true
   },
   "outputs": [],
   "source": [
    "# ESAI\n",
    "import re\n",
    "import nltk\n",
    "import keras\n",
    "import spacy\n",
    "import inflect\n",
    "import sent2vec # Para descargar esta libreria, es necesario descargarla desde GitHub https://github.com/epfml/sent2vec\n",
    "import stopwords\n",
    "import numpy as np\n",
    "import unicodedata\n",
    "import pandas as pd\n",
    "import contractions\n",
    "import seaborn as sns\n",
    "#nltk.download('wordnet')\n",
    "#nltk.download('omw-1.4')\n",
    "import pandas_profiling as pp\n",
    "from joblib import dump, load\n",
    "import matplotlib.pyplot as plt\n",
    "from collections import Counter\n",
    "from nltk.corpus import stopwords\n",
    "from sklearn.pipeline import Pipeline\n",
    "from keras.callbacks import EarlyStopping\n",
    "from sklearn.naive_bayes import ComplementNB\n",
    "from nltk import word_tokenize, sent_tokenize\n",
    "from tensorflow.keras.models import Sequential\n",
    "from sklearn.utils import resample, class_weight\n",
    "from keras.wrappers.scikit_learn import KerasClassifier\n",
    "from nltk.stem import SnowballStemmer, WordNetLemmatizer\n",
    "from sklearn.metrics import precision_score, make_scorer\n",
    "from sklearn.model_selection import train_test_split, GridSearchCV\n",
    "from sklearn.feature_extraction.text import TfidfVectorizer, CountVectorizer\n",
    "from clases import Preprocessing, StemAndLemmatize, VectorizeLSTM, LSTMBuilder\n",
    "from keras.layers import LSTM, Dense, Embedding, TextVectorization, Input, Dropout\n",
    "from sklearn.metrics import classification_report, confusion_matrix, make_scorer, ConfusionMatrixDisplay"
   ]
  },
  {
   "cell_type": "code",
   "execution_count": 3,
   "id": "283a6d55",
   "metadata": {},
   "outputs": [],
   "source": [
    "import warnings\n",
    "warnings.filterwarnings(\"ignore\", category=DeprecationWarning) "
   ]
  },
  {
   "cell_type": "code",
   "execution_count": 4,
   "id": "6a37bd96",
   "metadata": {},
   "outputs": [],
   "source": [
    "%matplotlib inline"
   ]
  },
  {
   "cell_type": "markdown",
   "id": "0a8e4e61",
   "metadata": {},
   "source": [
    "Procedemos, entonces, a ver los datos suministrados. "
   ]
  },
  {
   "cell_type": "code",
   "execution_count": 8,
   "id": "76c40049",
   "metadata": {},
   "outputs": [],
   "source": [
    "diagnoses =pd.read_csv('ApoyoDiagnosticoEstudiante/medical_text_clasificacion.csv')\n",
    "X, Y = diagnoses.drop(['problems_described'], axis=1), diagnoses['problems_described']\n",
    "X_train, X_test, Y_train, Y_test = train_test_split(X, Y,stratify=Y,test_size=0.01, random_state=28)\n",
    "data_train = pd.concat( [X_train, Y_train], axis=1)"
   ]
  },
  {
   "cell_type": "markdown",
   "id": "54b10797",
   "metadata": {},
   "source": [
    "## Preprocesamiento\n",
    "Iniciamos con la fase de preprocesamiento de los datos:\n",
    "### Extracción de entidades médicas\n",
    "De acuerdo con [4], para clasificación en contextos médicos es útil extraer entidades médicas para la clasificación, como se hizo en el proyecto pasado. No obstante, se obtuvieron mejores resultados con las entidades en todos los casos, así que se omitirá este pedazo:\n",
    "```python\n",
    "nlp = en_ner_bionlp13cg_md.load()\n",
    "def medical_entities(text):\n",
    "    entities = []\n",
    "    doc = nlp(text)\n",
    "    for ent in doc.ents:\n",
    "        entities.append(ent.text)\n",
    "    return ' '.join(entities)\n",
    "```\n"
   ]
  },
  {
   "cell_type": "markdown",
   "id": "7000e9a9",
   "metadata": {},
   "source": [
    "### Manejo de Ruido \n",
    "En esta sección se quitará o modificará todo lo que se considere como ruido:\n",
    "\n",
    "+ Caracteres no ascii: Hace parte importante del preprocesamiento de las palabras. Con caracteres no-ascii, el preprocesamiento puede verse terriblemente perjudicado.\n",
    "+ Se pasará de mayusculas a minusculas: Asimismo, es importante que todas las palabras tengan una capitalización homogénea (en este caso, queremos que estén en minúscula).\n",
    "+ Se eliminará la puntuación: Por otro lado, consideramos que la puntuación no provee información adicional en este contexto. Adicionalmente, de no eliminarse, puede aumentar la dimensionalidad de los datos sin proveer más información. Por ejemplo, no tiene sentido pensar que \"almuerzo!\" y \"almuerzo\" sean palabras diferentes. Por ello removemos toda la puntuación usando expresiones regulares.\n",
    "+ Se reemplazarán los números: Ahora, podemos suponer que los números no proveen información relevante para el problema en cuestión. Estos pueden también agregar dimensionalidad inutilmente al problema.\n",
    "+ Se quitarán las fechas (si las hay) también: las fechas son irrelevantes para el contexto del problema.\n",
    "+ Se quitarán las palabras vacias (artículos, pronombres, preposiciones): Estas se denominan stop-words, en inglés. Son palabras que se usan en muchos contextos (como 'the') y no aportan información significativa en la construcción del modelo. Asimismo, definimos nuestras propias stopwords de acuerdo con el perfilamiento realizado, pues son palabras que no aportan significativamente al contexto."
   ]
  },
  {
   "cell_type": "markdown",
   "id": "8bfbfe53",
   "metadata": {},
   "source": [
    "```python\n",
    "def remove_non_ascii(words):\n",
    "    \"\"\"Remove non-ASCII characters from list of tokenized words\"\"\"\n",
    "    new_words = []\n",
    "    for word in words:\n",
    "        new_word = unicodedata.normalize('NFKD', word).encode('ascii', 'ignore').decode('utf-8', 'ignore')\n",
    "        new_words.append(new_word)\n",
    "    return new_words\n",
    "\n",
    "def to_lowercase(words):\n",
    "    \"\"\"Convert all characters to lowercase from list of tokenized words\"\"\"\n",
    "    new_words = []\n",
    "    for word in words:\n",
    "        new_word = word.lower()\n",
    "        new_words.append(new_word)\n",
    "    return new_words\n",
    "    \n",
    "\n",
    "def remove_punctuation(words):\n",
    "    \"\"\"Remove punctuation from list of tokenized words\"\"\"\n",
    "    new_words = []\n",
    "    for word in words:\n",
    "        new_word = re.sub(r'[^\\w\\s]', '', word)\n",
    "        if new_word != '':\n",
    "            new_words.append(new_word)\n",
    "    return new_words\n",
    "\n",
    "def remove_numbers(words):\n",
    "    p = inflect.engine()\n",
    "    new_words = []\n",
    "    for word in words:\n",
    "        new_word = re.sub('\\d+.*', '', word)\n",
    "        if not word.isnumeric() and new_word != '':\n",
    "            new_words.append(word)\n",
    "    return new_words\n",
    "\n",
    "def remove_dates(words):\n",
    "    \"\"\"Replace all dates in our data\"\"\"\n",
    "    new_words = []\n",
    "    for word in words:\n",
    "        new_word = re.sub(r'\\d+/\\d+/\\d+', '', word)\n",
    "        if new_word != '':\n",
    "            new_words.append(new_word)\n",
    "    return new_words\n",
    "```\n"
   ]
  },
  {
   "cell_type": "markdown",
   "id": "8fd4f7dc",
   "metadata": {},
   "source": [
    "De todas estas palabras, encontramos que solamente tumor y lesion pueden ser relevantes para nuestro análisis. Por lo tanto, las quitamos todas, excepto estas dos. Además, en un análisis preliminar encontramos otras palabras irrelevantes, las cuales también eliminamos."
   ]
  },
  {
   "cell_type": "markdown",
   "id": "4dfbd103",
   "metadata": {},
   "source": [
    "```python\n",
    "#En una primera iteracion nos dimos cuenta que las palabras \"paty\", \"patients\" aparece frecuentemente en todas las enfermedades,\n",
    "#estos serán eliminados por que no agregan información valiosa. \n",
    "our_stopwords = [\"paty\",\"patients\",\"p\",\"study\",\"result\", \"human\", \"humans\", \"monkey\", \"monkeys\", \n",
    "                 \"diseases\", \"studied\",\"first\", \"rat\", \"patient\", \"case\", \"p less\", \"treatment\", \n",
    "                 \"group\", \"associated\", \"result\", \"may\", \"effect\", \"compared\", \"use\", \"cases\", \"year\", \n",
    "                 \"years\", \"age\", \"study\", \"disease\", \"found\", \"normal\", \"month\", \"although\", \"per cent\",\n",
    "                 \"one\", \"two\", \"three\", \"four\", \"n\", \"children\", \"women\"]\n",
    "\n",
    "def remove_stopwords(words):\n",
    "    new_words = []\n",
    "    for word in words:\n",
    "        if word not in stopwords.words('english') and word not in our_stopwords:\n",
    "            new_words.append(word)\n",
    "    return new_words\n",
    "```\n",
    "Asimismo, tenemos la función de eliminación del ruido global:\n",
    "\n",
    "``` python\n",
    "def noise_elimination(words):\n",
    "    words = to_lowercase(words)\n",
    "    words = remove_non_ascii(words)\n",
    "    words = remove_numbers(words)\n",
    "    words = remove_dates(words)\n",
    "    words = remove_punctuation(words)\n",
    "    words = remove_stopwords(words)\n",
    "    return words\n",
    "```\n",
    "\n",
    "\n"
   ]
  },
  {
   "cell_type": "markdown",
   "id": "fa899a0e",
   "metadata": {},
   "source": [
    "Con esto, ya tenemos casi listo nuestro proceso de eliminación del ruido. Primero, llamamos a la función <code>fix</code> de la librería ```contraction``` para aquellas contracciones que no están separadas en dos palabras. Esta elimina todas las ocurrencias de contracciones en inglés, reemplazándolas por su equivalente sin contracción. Una vez realizado este paso, \"tokenizamos\" las historias clínicas. Para poder evaluar cada palabra por separado y aplicar los pasos de preprocesamiento, hacemos la tokenización en palabras individuales usando el módulo ```word_tokenize```. Finalmente, aplicamos la función```noise_elimination``` definida previamente.\n",
    "\n",
    "Más adelante, lo que realmente nos servirá será volver a tener los documentos sin tokenización para el proceso de vectorización (sea tf-idf, o BioSentVec, como se vera mas adelante). Entonces, volvemos a juntar todas las palabras para cada documento y retornamos eso. También retornamos las palabras tokenizadas con el fin de realizar la lematización estemización más adelante.\n",
    "\n",
    "Note que estas funciones las aplicamos tanto sobre los medical abstracts iniciales, como las palabras clave que obtuvimos con la librería de SpaCy descrita previamente.\n",
    "\n",
    "```python\n",
    "def preprocessing(X):\n",
    "    new_X_train= X.apply(contractions.fix) #Aplica la corrección de las contracciones\n",
    "    new_X_train = new_X_train.apply(word_tokenize)\n",
    "    new_X_train = new_X_train.apply(noise_elimination) #Aplica la eliminación del ruido\n",
    "    X_train = new_X_train.apply(lambda x: ' '.join(map(str, x)))\n",
    "    return new_X_train, X_train\n",
    "```"
   ]
  },
  {
   "cell_type": "markdown",
   "id": "4f8450b0",
   "metadata": {},
   "source": [
    "### Normalización: Stemming y Lemmatization \n",
    "Aplicaremos tecnicas como \"Stemming\" y \"Lemmatization\" sobre la columna \"medical_abstracts\". \n",
    "\n",
    "En esta parte del preprocesamiento, hacemos una eliminación de prefijos y sufijos, así como una lematización de los verbos. En el caso del Stemming hay varios algoritmos que podemos utilizar: Porter, Snowball (Porter2) o Lancaster (Paice-Husk). De acuerdo a lo que encontramos,  <a href=\"https://stackoverflow.com/questions/10554052/what-are-the-major-differences-and-benefits-of-porter-and-lancaster-stemming-alg\"> la agresividad en el corte de raíces de las palabras de estos algoritmos aumenta, siendo Porter el menos agresivo y Lancaster el más agresivo </a>. En este sentido, parece ser que Lancaster (a pesar de ser el más eficiente de todos), puede ser poco riguroso y así crear muchas ambigüedades. Asimismo, Porter2 es un poco más agresivo que Porter, sin perder mucho el origen de las palabras y con un tiempo de cómputo razonable. El mismo Porter, creador del algoritmo, argumenta que es una mejora de su algoritmo original. Con el fin de tener la mejor preparación de las palabras, en un tiempo de cómputo razonable, decidimos usar Porter2. En el caso de la lematización, sí usamos WordNetLemmatizer() al ser el más usado en el mundo del procesamiento de textos.\n",
    "```python\n",
    "#Funciones de \"Stemming\" y \"Lemmatization\"\n",
    "def stem_words(words):\n",
    "    \"\"\"Stem words in list of tokenized words\"\"\"\n",
    "    stemmer = SnowballStemmer('english')\n",
    "    stems = []\n",
    "    for word in words:\n",
    "        stem = stemmer.stem(word)\n",
    "        stems.append(stem)\n",
    "    return stems\n",
    "\n",
    "def lemmatize_verbs(words):\n",
    "    \"\"\"Lemmatize verbs in list of tokenized words\"\"\"\n",
    "    lemmatizer = WordNetLemmatizer()\n",
    "    lemmas = []\n",
    "    for word in words:\n",
    "        lemma = lemmatizer.lemmatize(word, pos='v')\n",
    "        lemmas.append(lemma)\n",
    "    return lemmas\n",
    "\n",
    "def stem_and_lemmatize(words):\n",
    "    stems = stem_words(words)\n",
    "    lemmas = lemmatize_verbs(words)\n",
    "    return stems + lemmas\n",
    "```"
   ]
  },
  {
   "cell_type": "markdown",
   "id": "3bbb6ca9",
   "metadata": {},
   "source": [
    "Y creamos la clase correspondiente para las funciones:\n",
    "``` python\n",
    "class StemAndLemmatize():\n",
    "    def __init__(self):\n",
    "        pass\n",
    "    def transform(self,X,y=None):\n",
    "        X[\"medical_abstracts\"] = X[\"medical_abstracts\"].apply(stem_and_lemmatize)\n",
    "        return X\n",
    "    def fit(self, X, y=None):\n",
    "        return self\n",
    "```"
   ]
  },
  {
   "cell_type": "markdown",
   "id": "a5759a7d",
   "metadata": {},
   "source": [
    "Finalmente, con todas las funciones definidas, creamos el pipeline de preprocesamiento:"
   ]
  },
  {
   "cell_type": "code",
   "execution_count": 9,
   "id": "ad9e2385",
   "metadata": {},
   "outputs": [],
   "source": [
    "preproc = [\n",
    "    (\"preprocessing\", Preprocessing()),\n",
    "    (\"stem_lemmatize\", StemAndLemmatize())\n",
    "]"
   ]
  },
  {
   "cell_type": "code",
   "execution_count": 10,
   "id": "45eea7c5",
   "metadata": {},
   "outputs": [],
   "source": [
    "pipe  = Pipeline(preproc)"
   ]
  },
  {
   "cell_type": "markdown",
   "id": "137bfd99",
   "metadata": {},
   "source": [
    "Veamos una muestra de los textos preprocesados:"
   ]
  },
  {
   "cell_type": "code",
   "execution_count": 11,
   "id": "68008d97",
   "metadata": {},
   "outputs": [
    {
     "data": {
      "text/html": [
       "<div>\n",
       "<style scoped>\n",
       "    .dataframe tbody tr th:only-of-type {\n",
       "        vertical-align: middle;\n",
       "    }\n",
       "\n",
       "    .dataframe tbody tr th {\n",
       "        vertical-align: top;\n",
       "    }\n",
       "\n",
       "    .dataframe thead th {\n",
       "        text-align: right;\n",
       "    }\n",
       "</style>\n",
       "<table border=\"1\" class=\"dataframe\">\n",
       "  <thead>\n",
       "    <tr style=\"text-align: right;\">\n",
       "      <th></th>\n",
       "      <th>medical_abstracts</th>\n",
       "      <th>problems_described</th>\n",
       "    </tr>\n",
       "  </thead>\n",
       "  <tbody>\n",
       "    <tr>\n",
       "      <th>4888</th>\n",
       "      <td>[threedimension, system, longterm, cultur, col...</td>\n",
       "      <td>1</td>\n",
       "    </tr>\n",
       "    <tr>\n",
       "      <th>3247</th>\n",
       "      <td>[brainstem, auditori, evok, respons, acoust, n...</td>\n",
       "      <td>3</td>\n",
       "    </tr>\n",
       "    <tr>\n",
       "      <th>5261</th>\n",
       "      <td>[methodolog, mental, stress, test, cardiovascu...</td>\n",
       "      <td>4</td>\n",
       "    </tr>\n",
       "    <tr>\n",
       "      <th>9568</th>\n",
       "      <td>[applic, modifi, bioassay, monitor, serum, tei...</td>\n",
       "      <td>5</td>\n",
       "    </tr>\n",
       "    <tr>\n",
       "      <th>10074</th>\n",
       "      <td>[fine, surfac, structur, intraspin, neurenter,...</td>\n",
       "      <td>5</td>\n",
       "    </tr>\n",
       "  </tbody>\n",
       "</table>\n",
       "</div>"
      ],
      "text/plain": [
       "                                       medical_abstracts  problems_described\n",
       "4888   [threedimension, system, longterm, cultur, col...                   1\n",
       "3247   [brainstem, auditori, evok, respons, acoust, n...                   3\n",
       "5261   [methodolog, mental, stress, test, cardiovascu...                   4\n",
       "9568   [applic, modifi, bioassay, monitor, serum, tei...                   5\n",
       "10074  [fine, surfac, structur, intraspin, neurenter,...                   5"
      ]
     },
     "execution_count": 11,
     "metadata": {},
     "output_type": "execute_result"
    }
   ],
   "source": [
    "datos_train_procesados = pipe.fit_transform(data_train, data_train['problems_described'])\n",
    "datos_train_procesados.head(5)"
   ]
  },
  {
   "cell_type": "markdown",
   "id": "42c509b0",
   "metadata": {},
   "source": [
    "Finalmente, almacenamos los datos de entrenamiento en un archivo <code>.csv</code> denominado: <code>proyecto1_fase2_datos_entrenamiento.csv</code>:"
   ]
  },
  {
   "cell_type": "code",
   "execution_count": 12,
   "id": "e075174a",
   "metadata": {},
   "outputs": [],
   "source": [
    "datos_train_procesados.to_csv(\"proyecto1_fase2_datos_preprocesados.csv\")"
   ]
  },
  {
   "cell_type": "markdown",
   "id": "5ece05ab",
   "metadata": {},
   "source": [
    "## Modelo: LSTM\n",
    "En la iteración pasada, diseñamos tres algoritmos de Machine Learning para probar: Naïve-Bayes, OneVsRest y una red neuronal usando una LSTM (Long-Short Term Memory). De estos, el que mejores métricas arrojó fue el LSTM. Por lo tanto, debido a que buscamos optimizar la precisión de nuestro modelo para el cliente, este es el que desplegaremos en la API. Si desea ver más información acerca de la LSTM, remítase al repositorio del proyecto anterior.\n",
    "\n",
    "La LSTM (Long-Short Term Memory) es un tipo de red neuronal recurrente (RNN, por sus siglas en inglés) que se desempeña mejor que las RNN tradicionales en términos de memoria [1]. Una RNN es un tipo de red neuronal que permite a las salidas de capas previas ser utilizadas como entradas, teniendo estados ocultos [2].\n",
    "\n",
    "Las LSTM tienen múltiples capas ocultas. A medida que se pasa a través de una capa, la información relevante se mantiene y la irrelevante se desecha en cada neurona (celda) individual [1]. Asimismo, las LSTM solucionan el problema de desvanecimiento de gradientes que las RNN enfrentan a menudo.\n",
    "\n",
    "Las LSTM cuentan principalmente con 3 compuertas:\n",
    "+ **FORGET Gate:** Esta compuerta es la responsable de decidir qué información se queda y cuál es irrelevante y debe descartarse. Para ello, utiliza la información que viene de la neurona anterior $h_{t-1}$ y la información de la celda actual, $x_t$. Sobre ellas, se corre una función sigmoide, $$S(x) = \\frac{1}{1 + e^{-x}},$$ tal que los datos que tiendan a 0 son descartados por la red [1].\n",
    "+ **INPUT Gate:** Esta compuerta actualiza el estado de la neurona y decide qué información es importante. Como la compuerta FORGET ayuda a descartar la información, la compuerta INPUT ayuda a encontrar la información importante y a almacenar ciertos datos relevantes en memoria. En este caso, la información de la neurona anterior, $h_{t-1}$ es pasada por una función de activación sigmoide, mientras que la información de la neurona actual $x_t$ se pasa por una función de activación de tangete hiperbólica: $$\\tanh(x) = \\frac{1 - e^{-2x}}{1 + e^{-2x}}.$$ Es importante resaltar que la función $\\tanh$ ayuda a regular la red y a reducir el sesgo de la misma [1].\n",
    "+ **OUTPUT Gate:** Tras multiplicar el estado actual de la neurona con lo que se obtiene de la compuerta FORGET, lo cual permite eliminar cierta información si la compuerta FORGET arroja pesos de 0, debe decidirse cual será el estado de la siguiente celda. La información de $h_{t-1}$ y $x_t$ se pasa a través de una función sigmoide, el cual es a su vez pasado por una función de tangente hiperbólica, y ambos resultados se mltiplican para decidir la información que llevará el estado oculto [1]. \n",
    "\n",
    "A continuación, puede verse la gráfica de las funciones $\\tanh$ y sigmoide:\n",
    "\n",
    "<img src=\"https://www.researchgate.net/profile/Muhammad-Hamdan-8/publication/327435257/figure/fig4/AS:742898131812354@1554132125449/Activation-Functions-ReLU-Tanh-Sigmoid.ppm\" />\n",
    "\n",
    "Note que también se encuentra la función de activación ReLU (Regularized Linear Unit), muy popular en las aplicaciones de Machine y Deep Learning.\n",
    "\n",
    "Asimismo, puede verse una representación esquemática (obtenida de [3]) de la estructura de cada una de las compuertas:\n",
    "\n",
    "<img src=\"https://www.researchgate.net/profile/Xuan_Hien_Le2/publication/334268507/figure/fig8/AS:788364231987201@1564972088814/The-structure-of-the-Long-Short-Term-Memory-LSTM-neural-network-Reproduced-from-Yan.png\" width=50% />\n",
    "\n",
    "En la imagen podemos ver las funciones de activación usadas en cada celda LSTM (sigmoide y tangente hiperbólica), así como sus entradas, salidas y compuertas.\n",
    "\n",
    "Finalmente, procedemos a volver a leer los datos para realizar el preprocesamiento desde 0."
   ]
  },
  {
   "cell_type": "code",
   "execution_count": 26,
   "id": "a0c73d5c",
   "metadata": {},
   "outputs": [],
   "source": [
    "diagnoses =pd.read_csv('ApoyoDiagnosticoEstudiante/medical_text_clasificacion.csv')\n",
    "X, Y = diagnoses.drop(['problems_described'], axis=1), diagnoses['problems_described']\n",
    "X_train, X_test, Y_train, Y_test = train_test_split(X, Y,stratify=Y,test_size=0.01, random_state=28)\n",
    "data_train = pd.concat( [X_train, Y_train], axis=1)"
   ]
  },
  {
   "cell_type": "markdown",
   "id": "16fbef43",
   "metadata": {},
   "source": [
    "### Manejo de desbalanceo de las clases\n",
    "\n",
    "Ahora, uno de los mayores problemas de la clasificación es el contexto desbalanceado. Una opción sería reducir el conjunto de datos hasta que todas las clases queden con un número de abstracts igual al tamaño de la clase de menor cantidad de abstracts. No obstante, por lo general la idea es no reducir el conjunto de datos. Otra opción, como en los algoritmos anteriores, sería usar SMOTE. No obstante, esto es computacionalmente muy costoso para la red.\n",
    "\n",
    "Lo que sí podemos hacer es considerar pesos. Así, el modelo podrá prestar mayor atención a las clases minoritarias. Para ello, usaremos la librería de <code>sk-learn</code> y lo pasaremos como un objeto al modelo que construiremos más adelante:"
   ]
  },
  {
   "cell_type": "code",
   "execution_count": 27,
   "id": "1b8e215b",
   "metadata": {},
   "outputs": [],
   "source": [
    "class_weights = class_weight.compute_class_weight(\n",
    "                class_weight = 'balanced',\n",
    "                classes = np.unique(Y_train), \n",
    "                y = Y_train)\n",
    "train_class_weights_ = dict(enumerate(class_weights, start=1))\n",
    "train_class_weights = dict(enumerate(class_weights))"
   ]
  },
  {
   "cell_type": "markdown",
   "id": "9640f129",
   "metadata": {},
   "source": [
    "Podemos ver los pesos asociados a cada una de las clases, en orden ascendente:"
   ]
  },
  {
   "cell_type": "code",
   "execution_count": 28,
   "id": "428e1e35",
   "metadata": {},
   "outputs": [
    {
     "data": {
      "text/plain": [
       "{1: 0.9127929312331925,\n",
       " 2: 1.9332790886899918,\n",
       " 3: 1.5,\n",
       " 4: 0.946236559139785,\n",
       " 5: 0.6010624841892234}"
      ]
     },
     "execution_count": 28,
     "metadata": {},
     "output_type": "execute_result"
    }
   ],
   "source": [
    "train_class_weights_"
   ]
  },
  {
   "cell_type": "markdown",
   "id": "889b607b",
   "metadata": {},
   "source": [
    "### Modelo"
   ]
  },
  {
   "cell_type": "markdown",
   "id": "aac0b2f3",
   "metadata": {},
   "source": [
    "Usando el modelo de vectorización de BioSentVec, se obtuvo, utilizando la búsqueda de hiperparámetros, que el mejor modelo era aquel que no tenía ninguna capa adicional a las consideradas inicialmente (dos capas LSTM con sus respectivas capas de dropout), un dropout de 0.1 (i.e. una tasa de pérdida bastante pequeña) y cada una de las capas con 64 neuronas.\n",
    "\n",
    "Finalmente, se tiene una capa softmax con 5 neuronas, que corresponden con las 5 clases del problema. Es importante mencionar que la variable categórica Y se debe convertir a la funcionalidad de Keras para el correcto funcionamiento de la red."
   ]
  },
  {
   "cell_type": "code",
   "execution_count": 29,
   "id": "32e67bca",
   "metadata": {},
   "outputs": [],
   "source": [
    "X, Y = data_train.drop(['problems_described'], axis=1), data_train['problems_described']\n",
    "Y = keras.utils.np_utils.to_categorical(Y)[:,1:]"
   ]
  },
  {
   "cell_type": "markdown",
   "id": "c05f23e8",
   "metadata": {},
   "source": [
    "Y, por último, creamos la vectorización:"
   ]
  },
  {
   "cell_type": "code",
   "execution_count": 30,
   "id": "5220a913",
   "metadata": {},
   "outputs": [],
   "source": [
    "pipe.steps.append(('vectorizer', VectorizeLSTM()))"
   ]
  },
  {
   "cell_type": "markdown",
   "id": "bcf2efa8",
   "metadata": {},
   "source": [
    "Veamos qué tiene la pipeline hasta ahora:"
   ]
  },
  {
   "cell_type": "code",
   "execution_count": 35,
   "id": "66dbcae2",
   "metadata": {},
   "outputs": [
    {
     "data": {
      "text/plain": [
       "Pipeline(steps=[('preprocessing',\n",
       "                 <clases.Preprocessing object at 0x7fde44fc8940>),\n",
       "                ('stem_lemmatize',\n",
       "                 <clases.StemAndLemmatize object at 0x7fde44fc88e0>),\n",
       "                ('vectorizer',\n",
       "                 <clases.VectorizeLSTM object at 0x7fde19467400>)])"
      ]
     },
     "execution_count": 35,
     "metadata": {},
     "output_type": "execute_result"
    }
   ],
   "source": [
    "pipe"
   ]
  },
  {
   "cell_type": "markdown",
   "id": "9c379290",
   "metadata": {},
   "source": [
    "Finalmente, creamos un clasificador de Keras usando el modelo de la red, de acuerdo con los hiperparámetros encontrados en el anterior proyecto:\n",
    "```python\n",
    "class LSTMBuilder():\n",
    "    def __call__(self):\n",
    "        output=5\n",
    "        model = Sequential(name=\"LSTM\")\n",
    "        # Agregamos una capa LSTM con el tamanio de entrada de los embedded abstracts y 64 neuronas en la capa\n",
    "        model.add(LSTM(units=64, return_sequences=True, \n",
    "                    input_shape=(1, 700)))\n",
    "        model.add(Dropout(0.1))\n",
    "        # Agregamos una segunda capa LSTM con 16 neuronas\n",
    "        model.add(LSTM(units=64, return_sequences=False))\n",
    "        # Con su respectiva capa de dropout\n",
    "        model.add(Dropout(0.1))\n",
    "        # Definimos la capa de salida\n",
    "        model.add(Dense(output, activation='softmax'))\n",
    "        # Compilo\n",
    "        model.compile(loss='categorical_crossentropy', optimizer='adam', metrics=[keras.metrics.Precision(name='precision')])\n",
    "        return model\n",
    "```"
   ]
  },
  {
   "cell_type": "code",
   "execution_count": 36,
   "id": "b208f0bf",
   "metadata": {},
   "outputs": [],
   "source": [
    "clf = KerasClassifier(LSTMBuilder(), verbose=1)"
   ]
  },
  {
   "cell_type": "code",
   "execution_count": 37,
   "id": "a86574ac",
   "metadata": {},
   "outputs": [],
   "source": [
    "pipe.steps.append((('model', clf)))"
   ]
  },
  {
   "cell_type": "code",
   "execution_count": 40,
   "id": "33163a08",
   "metadata": {},
   "outputs": [
    {
     "name": "stdout",
     "output_type": "stream",
     "text": [
      "Model successfuly loaded\n",
      "Epoch 1/50\n",
      "368/368 [==============================] - 9s 5ms/step - loss: 1.0151 - precision: 0.6461 - val_loss: 0.8863 - val_precision: 0.7128\n",
      "Epoch 2/50\n",
      "368/368 [==============================] - 1s 4ms/step - loss: 0.8135 - precision: 0.6559 - val_loss: 0.8222 - val_precision: 0.7576\n",
      "Epoch 3/50\n",
      "368/368 [==============================] - 1s 3ms/step - loss: 0.7740 - precision: 0.6597 - val_loss: 0.7895 - val_precision: 0.7404\n",
      "Epoch 4/50\n",
      "368/368 [==============================] - 1s 3ms/step - loss: 0.7494 - precision: 0.6686 - val_loss: 0.8041 - val_precision: 0.7048\n",
      "Epoch 5/50\n",
      "368/368 [==============================] - 1s 3ms/step - loss: 0.7305 - precision: 0.6675 - val_loss: 0.7951 - val_precision: 0.7333\n",
      "Epoch 6/50\n",
      "368/368 [==============================] - 1s 4ms/step - loss: 0.7134 - precision: 0.6755 - val_loss: 0.7938 - val_precision: 0.7255\n",
      "Epoch 7/50\n",
      "368/368 [==============================] - 1s 3ms/step - loss: 0.7042 - precision: 0.6733 - val_loss: 0.7959 - val_precision: 0.6972\n",
      "Epoch 8/50\n",
      "368/368 [==============================] - 1s 3ms/step - loss: 0.6834 - precision: 0.6790 - val_loss: 0.7996 - val_precision: 0.6903\n",
      "Epoch 9/50\n",
      "368/368 [==============================] - 1s 3ms/step - loss: 0.6780 - precision: 0.6815 - val_loss: 0.8071 - val_precision: 0.7027\n",
      "Epoch 10/50\n",
      "368/368 [==============================] - 1s 3ms/step - loss: 0.6631 - precision: 0.6813 - val_loss: 0.8253 - val_precision: 0.7308\n",
      "Epoch 11/50\n",
      "368/368 [==============================] - 1s 3ms/step - loss: 0.6529 - precision: 0.6875 - val_loss: 0.7990 - val_precision: 0.7130\n",
      "Epoch 12/50\n",
      "368/368 [==============================] - 1s 3ms/step - loss: 0.6433 - precision: 0.6891 - val_loss: 0.7886 - val_precision: 0.7000\n",
      "Epoch 13/50\n",
      "368/368 [==============================] - 1s 3ms/step - loss: 0.6288 - precision: 0.6936 - val_loss: 0.8091 - val_precision: 0.6875\n",
      "Epoch 14/50\n",
      "368/368 [==============================] - 1s 3ms/step - loss: 0.6185 - precision: 0.6956 - val_loss: 0.8644 - val_precision: 0.6842\n",
      "Epoch 15/50\n",
      "368/368 [==============================] - 1s 3ms/step - loss: 0.6068 - precision: 0.7004 - val_loss: 0.8054 - val_precision: 0.7273\n",
      "Epoch 16/50\n",
      "368/368 [==============================] - 1s 3ms/step - loss: 0.5975 - precision: 0.7033 - val_loss: 0.8245 - val_precision: 0.7117\n",
      "Epoch 17/50\n",
      "368/368 [==============================] - 1s 3ms/step - loss: 0.5859 - precision: 0.7063 - val_loss: 0.8537 - val_precision: 0.6897\n",
      "Epoch 18/50\n",
      "368/368 [==============================] - 1s 3ms/step - loss: 0.5784 - precision: 0.7138 - val_loss: 0.9376 - val_precision: 0.6944\n",
      "Epoch 19/50\n",
      "368/368 [==============================] - 1s 3ms/step - loss: 0.5666 - precision: 0.7146 - val_loss: 0.8339 - val_precision: 0.7207\n",
      "Epoch 20/50\n",
      "368/368 [==============================] - 1s 3ms/step - loss: 0.5562 - precision: 0.7224 - val_loss: 0.8773 - val_precision: 0.6903\n",
      "Epoch 21/50\n",
      "368/368 [==============================] - 1s 3ms/step - loss: 0.5519 - precision: 0.7192 - val_loss: 0.8371 - val_precision: 0.7143\n",
      "Epoch 22/50\n",
      "368/368 [==============================] - 1s 3ms/step - loss: 0.5374 - precision: 0.7258 - val_loss: 0.9217 - val_precision: 0.6696\n",
      "Epoch 22: early stopping\n"
     ]
    }
   ],
   "source": [
    "pipe_elegida = pipe.fit(X, Y, \n",
    "                        model__class_weight=train_class_weights,\n",
    "                        model__callbacks=EarlyStopping(monitor='val_loss', patience=10, verbose=1, mode='auto', baseline=None),\n",
    "                        model__validation_split=0.01, \n",
    "                        model__epochs= 50)"
   ]
  },
  {
   "cell_type": "markdown",
   "id": "e2294c1c",
   "metadata": {},
   "source": [
    "### Prueba de la calidad del modelo\n",
    "Veamos la matriz de confusión y otras métricas pertinentes para este modelo. Para un análisis más exhaustivo, remítase al anterior proyecto."
   ]
  },
  {
   "cell_type": "code",
   "execution_count": 58,
   "id": "831e5eb6",
   "metadata": {},
   "outputs": [
    {
     "name": "stdout",
     "output_type": "stream",
     "text": [
      "---Reporte para el modelo construido---\n",
      "              precision    recall  f1-score   support\n",
      "\n",
      "           1       0.75      0.87      0.80      2603\n",
      "           2       0.53      0.91      0.67      1229\n",
      "           3       0.56      0.86      0.67      1584\n",
      "           4       0.72      0.81      0.76      2511\n",
      "           5       0.84      0.31      0.45      3953\n",
      "\n",
      "    accuracy                           0.67     11880\n",
      "   macro avg       0.68      0.75      0.67     11880\n",
      "weighted avg       0.72      0.67      0.65     11880\n",
      "\n"
     ]
    }
   ],
   "source": [
    "y_pred = pipe_elegida.predict(X) + 1 # Sumamos 1 para que las clases nos queden entre 1 y 5 \n",
    "Y_tr = Y.argmax(1) + 1 # Sumamos 1 para que las clases nos queden entre 1 y 5 \n",
    "\n",
    "print('---Reporte para el modelo construido---')\n",
    "print(classification_report(Y_tr, y_pred))"
   ]
  },
  {
   "cell_type": "markdown",
   "id": "f8eb6601",
   "metadata": {},
   "source": [
    "Podemos ver que, en promedio, la precisión de este modelo no es mala. De hecho, para tres de las 5 clases (neoplasias, enfermedades cardiovasculares y patologías generales, se tiene una precisión mayor o igual al 70%. Esperamos poder mejorar esto de alguna forma, para ello, intentamos otras técnicas.\n",
    "\n",
    "Veamos ahora la matriz de confusión:"
   ]
  },
  {
   "cell_type": "code",
   "execution_count": 59,
   "id": "2bf08d60",
   "metadata": {},
   "outputs": [
    {
     "data": {
      "image/png": "[encoded data removed]",
      "text/plain": [
       "<Figure size 432x288 with 2 Axes>"
      ]
     },
     "metadata": {
      "needs_background": "light"
     },
     "output_type": "display_data"
    }
   ],
   "source": [
    "cm = confusion_matrix(Y_tr, y_pred)\n",
    "disp = ConfusionMatrixDisplay(confusion_matrix=cm, display_labels= np.arange(1,6))\n",
    "disp.plot()\n",
    "plt.show()"
   ]
  },
  {
   "cell_type": "markdown",
   "id": "1876b68d",
   "metadata": {},
   "source": [
    "En este caso, podemos ver que la clase que más se confunde es la 5: esto tiene sentido, pues las palabras que la conforman pueden caber en varias de las otras categorías. De resto, el modelo clasifica bien (sin mucho error) las otras clases. Note que las clases peor clasificadas son las minoritarias, incluso a pesar de que consideramos los pesos en la construcción del modelo."
   ]
  },
  {
   "cell_type": "markdown",
   "id": "aa8bf6b2",
   "metadata": {},
   "source": [
    "### Obtención de las estadísticas\n",
    "Veamos la probabilidad de que un texto determinado pertenezca a cada clase:"
   ]
  },
  {
   "cell_type": "code",
   "execution_count": 60,
   "id": "45a21d82",
   "metadata": {},
   "outputs": [
    {
     "name": "stdout",
     "output_type": "stream",
     "text": [
      "Model successfuly loaded\n"
     ]
    }
   ],
   "source": [
    "pred = pipe_elegida.predict_proba(X)"
   ]
  },
  {
   "cell_type": "markdown",
   "id": "e32e1e5f",
   "metadata": {},
   "source": [
    "Veamos si las probabilidades coinciden con lo que la etiqueta, para el primer dato:"
   ]
  },
  {
   "cell_type": "code",
   "execution_count": 68,
   "id": "8f6fddbe",
   "metadata": {},
   "outputs": [
    {
     "name": "stdout",
     "output_type": "stream",
     "text": [
      "La clase predicha es: 1 con una probabilidad de 83.55962038040161%\n",
      "La clase real es 1\n"
     ]
    }
   ],
   "source": [
    "predicha_0 = np.argmax(pred[0])+1\n",
    "real_0 = Y_tr[0]\n",
    "print('La clase predicha es: {} con una probabilidad de {}%'.format(predicha_0, np.max(pred[0])*100) )\n",
    "print('La clase real es {}'.format(real_0))"
   ]
  },
  {
   "cell_type": "markdown",
   "id": "444542f9",
   "metadata": {},
   "source": [
    "Vemos que, para este dato en particular, la clase predicha y la real es la misma. Asimismo, la clase predicha tiene una buena probabilidad. El conocimiento de las probabilidades puede ser útil en el dominio médico porque permite al médico tener un segundo concepto, con una probabilidad menor, en caso de que el primero no lo satisfaga del todo. Es particularmente útil en el caso de las enfermedades tipo 5 (patologías generales), qu pueden confundirse como otro tipo de enfermedades."
   ]
  },
  {
   "cell_type": "markdown",
   "id": "20b9e6fc",
   "metadata": {},
   "source": [
    "### Exportación del modelo\n",
    "Una vez entrenado el modelo, procedemos a guardarlo y exportarlo. Debido a que no existe una manera directa de almacenar un modelo de keras dentro de una pipeline de scikit learn, es necesario guardarlos por separado. Así, guardamos primero el modelo de Keras:"
   ]
  },
  {
   "cell_type": "code",
   "execution_count": 69,
   "id": "95e1091b",
   "metadata": {},
   "outputs": [
    {
     "data": {
      "text/plain": [
       "['./assets/modelo.pkl']"
      ]
     },
     "execution_count": 69,
     "metadata": {},
     "output_type": "execute_result"
    }
   ],
   "source": [
    "pipe_elegida.named_steps['model'].model.save('./assets/keras_model.h5')\n",
    "pipe_elegida.named_steps['model'].model = None\n",
    "dump(pipe_elegida, './assets/modelo.pkl')"
   ]
  },
  {
   "cell_type": "markdown",
   "id": "56d2d0c1",
   "metadata": {},
   "source": [
    "<h2 id='bibliografia'>Bibliografía</h2>\n",
    "\n",
    "---\n",
    "\n",
    "<a id='geron'>[1]</a> Géron, A. (2017). Hands-on machine learning with Scikit-Learn and TensorFlow : concepts, tools, and techniques to build intelligent systems. Sebastopol, CA: O'Reilly Media. ISBN: 978-1491962299\n",
    "\n",
    "<a id='nlp_profiler'>[2]</a> https://towardsdatascience.com/nlp-profiler-profiling-datasets-with-one-or-more-text-columns-9b791193db89\n",
    "\n",
    "[3] https://www.kaggle.com/code/neomatrix369/nlp-profiler-simple-dataset/notebook\n",
    "\n",
    "[4] Clinical Text Classification: https://www.kaggle.com/ritheshsreenivasan/clinical-text-classification\n",
    "\n",
    "[5] https://www.analyticsvidhya.com/blog/2021/06/lstm-for-text-classification/\n",
    "\n",
    "[6] https://stanford.edu/~shervine/teaching/cs-230/cheatsheet-recurrent-neural-networks\n",
    "\n",
    "[7] Application of Long Short-Term Memory (LSTM) Neural Network for Flood Forecasting - Scientific Figure on ResearchGate. Available from: https://www.researchgate.net/figure/The-structure-of-the-Long-Short-Term-Memory-LSTM-neural-network-Reproduced-from-Yan_fig8_334268507 [accessed 28 Mar, 2022]\n",
    "\n",
    "[8] Zhang Y, Chen Q, Yang Z, Lin H, Lu Z. BioWordVec, improving biomedical word embeddings with subword information and MeSH. Scientific Data. 2019.\n",
    "\n",
    "[9] https://towardsdatascience.com/simplified-math-behind-dropout-in-deep-learning-6d50f3f47275\n",
    "\n",
    "[10] https://machinelearningmastery.com/how-to-choose-loss-functions-when-training-deep-learning-neural-networks/\n",
    "\n",
    "[11] https://towardsdatascience.com/7-tips-to-choose-the-best-optimizer-47bb9c1219e"
   ]
  },
  {
   "cell_type": "code",
   "execution_count": null,
   "id": "cf30ef49",
   "metadata": {},
   "outputs": [],
   "source": []
  }
 ],
 "metadata": {
  "kernelspec": {
   "display_name": "Python 3 (ipykernel)",
   "language": "python",
   "name": "python3"
  },
  "language_info": {
   "codemirror_mode": {
    "name": "ipython",
    "version": 3
   },
   "file_extension": ".py",
   "mimetype": "text/x-python",
   "name": "python",
   "nbconvert_exporter": "python",
   "pygments_lexer": "ipython3",
   "version": "3.9.12"
  }
 },
 "nbformat": 4,
 "nbformat_minor": 5
}
